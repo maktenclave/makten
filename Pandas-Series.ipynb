{
 "cells": [
  {
   "cell_type": "code",
   "execution_count": 3,
   "id": "a382d3e4",
   "metadata": {},
   "outputs": [
    {
     "name": "stdout",
     "output_type": "stream",
     "text": [
      "0    J\n",
      "1    o\n",
      "2    h\n",
      "3    a\n",
      "4    n\n",
      "dtype: object\n"
     ]
    }
   ],
   "source": [
    "import pandas as pd\n",
    "import numpy as np\n",
    "a=np.array(['J','o','h','a','n'])\n",
    "a=pd.Series(a)\n",
    "print(a)"
   ]
  },
  {
   "cell_type": "code",
   "execution_count": 4,
   "id": "2cdecb37",
   "metadata": {},
   "outputs": [
    {
     "name": "stdout",
     "output_type": "stream",
     "text": [
      "['J' 'o' 'e']\n"
     ]
    }
   ],
   "source": [
    "import pandas as pd\n",
    "import numpy as np\n",
    "a=np.array(['J','o','e'])\n",
    "print(a)"
   ]
  },
  {
   "cell_type": "code",
   "execution_count": 5,
   "id": "c5cf343f",
   "metadata": {},
   "outputs": [
    {
     "name": "stdout",
     "output_type": "stream",
     "text": [
      "a    0\n",
      "b    1\n",
      "c    2\n",
      "dtype: int64\n"
     ]
    }
   ],
   "source": [
    "import pandas as pd\n",
    "import numpy as np\n",
    "a={'a':0,'b':1,'c':2}\n",
    "a=pd.Series(a)\n",
    "print(a)"
   ]
  },
  {
   "cell_type": "code",
   "execution_count": 6,
   "id": "3eb205b5",
   "metadata": {},
   "outputs": [
    {
     "name": "stdout",
     "output_type": "stream",
     "text": [
      "0    4\n",
      "1    4\n",
      "2    4\n",
      "3    4\n",
      "dtype: int64\n"
     ]
    }
   ],
   "source": [
    "import numpy as np\n",
    "import pandas as pd\n",
    "a=pd.Series(4,index=[0,1,2,3])\n",
    "print(a)"
   ]
  },
  {
   "cell_type": "code",
   "execution_count": 2,
   "id": "2556d8b8",
   "metadata": {},
   "outputs": [
    {
     "name": "stdout",
     "output_type": "stream",
     "text": [
      "\n",
      "A Series:\n",
      " 0    J\n",
      "1    o\n",
      "2    h\n",
      "3    a\n",
      "4    n\n",
      "dtype: object\n",
      "\n",
      "Index:\n",
      " RangeIndex(start=0, stop=5, step=1)\n",
      "\n",
      "Values:\n",
      " ['J' 'o' 'h' 'a' 'n']\n",
      "\n",
      "Shape:\n",
      " (5,)\n",
      "\n",
      "Dimension:\n",
      " 1\n",
      "\n",
      "Size:\n",
      " 5\n"
     ]
    }
   ],
   "source": [
    "import numpy as np\n",
    "import pandas as pd\n",
    "a=np.array(['J','o','h','a','n'])\n",
    "a=pd.Series(a)\n",
    "print(\"\\nA Series:\\n\",a)\n",
    "print(\"\\nIndex:\\n\",a.index)\n",
    "print(\"\\nValues:\\n\",a.values)\n",
    "print(\"\\nShape:\\n\",a.shape)\n",
    "print(\"\\nDimension:\\n\",a.ndim)\n",
    "print(\"\\nSize:\\n\",a.size)"
   ]
  },
  {
   "cell_type": "code",
   "execution_count": null,
   "id": "866b0142",
   "metadata": {},
   "outputs": [],
   "source": []
  }
 ],
 "metadata": {
  "kernelspec": {
   "display_name": "Python 3 (ipykernel)",
   "language": "python",
   "name": "python3"
  },
  "language_info": {
   "codemirror_mode": {
    "name": "ipython",
    "version": 3
   },
   "file_extension": ".py",
   "mimetype": "text/x-python",
   "name": "python",
   "nbconvert_exporter": "python",
   "pygments_lexer": "ipython3",
   "version": "3.11.5"
  }
 },
 "nbformat": 4,
 "nbformat_minor": 5
}
