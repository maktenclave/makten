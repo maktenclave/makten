{
 "cells": [
  {
   "cell_type": "code",
   "execution_count": 1,
   "id": "26694ba5",
   "metadata": {},
   "outputs": [
    {
     "name": "stdout",
     "output_type": "stream",
     "text": [
      "2025-04-11 11:05:48.412305\n"
     ]
    }
   ],
   "source": [
    "import datetime\n",
    "a=datetime.datetime.now()\n",
    "print(a)"
   ]
  },
  {
   "cell_type": "code",
   "execution_count": 2,
   "id": "880bd807",
   "metadata": {},
   "outputs": [
    {
     "name": "stdout",
     "output_type": "stream",
     "text": [
      "Two dogit year: 25\n"
     ]
    }
   ],
   "source": [
    "res=a.strftime(\"%y\")\n",
    "print(\"Two digit year:\",res)"
   ]
  },
  {
   "cell_type": "code",
   "execution_count": 24,
   "id": "297d1d82",
   "metadata": {},
   "outputs": [
    {
     "name": "stdout",
     "output_type": "stream",
     "text": [
      "Four digit year: 2025\n"
     ]
    }
   ],
   "source": [
    "r=a.strftime(\"%Y\")\n",
    "print(\"Four digit year:\",r)"
   ]
  },
  {
   "cell_type": "code",
   "execution_count": 4,
   "id": "4eab9da7",
   "metadata": {},
   "outputs": [
    {
     "name": "stdout",
     "output_type": "stream",
     "text": [
      "Two dogit month[1,12]: 04\n"
     ]
    }
   ],
   "source": [
    "res=a.strftime(\"%m\")\n",
    "print(\"Two digit month[1,12]:\",res)"
   ]
  },
  {
   "cell_type": "code",
   "execution_count": 6,
   "id": "51f390a3",
   "metadata": {},
   "outputs": [
    {
     "name": "stdout",
     "output_type": "stream",
     "text": [
      "Short version of month Apr\n"
     ]
    }
   ],
   "source": [
    "res=a.strftime(\"%b\")\n",
    "print(\"Short version of month\",res)"
   ]
  },
  {
   "cell_type": "code",
   "execution_count": 7,
   "id": "f9c971c0",
   "metadata": {},
   "outputs": [
    {
     "name": "stdout",
     "output_type": "stream",
     "text": [
      "Full version of month April\n"
     ]
    }
   ],
   "source": [
    "res=a.strftime(\"%B\")\n",
    "print(\"Full version of month\",res)"
   ]
  },
  {
   "cell_type": "code",
   "execution_count": 8,
   "id": "1b1ae0ab",
   "metadata": {},
   "outputs": [
    {
     "name": "stdout",
     "output_type": "stream",
     "text": [
      "Days of the year: 101\n"
     ]
    }
   ],
   "source": [
    "res=a.strftime(\"%j\")\n",
    "print(\"Days of the year:\",res)"
   ]
  },
  {
   "cell_type": "code",
   "execution_count": 9,
   "id": "73c03e5d",
   "metadata": {},
   "outputs": [
    {
     "name": "stdout",
     "output_type": "stream",
     "text": [
      "Short cut for %m/%d/%y: 04/11/25\n"
     ]
    }
   ],
   "source": [
    "res=a.strftime(\"%D\")\n",
    "print(\"Short cut for %m/%d/%y:\",res)"
   ]
  },
  {
   "cell_type": "code",
   "execution_count": 10,
   "id": "f1fbbb46",
   "metadata": {},
   "outputs": [
    {
     "name": "stdout",
     "output_type": "stream",
     "text": [
      "Two digit day[01,31]: 11\n"
     ]
    }
   ],
   "source": [
    "res=a.strftime(\"%d\")\n",
    "print(\"Two digit day[01,31]:\",res)"
   ]
  },
  {
   "cell_type": "code",
   "execution_count": 11,
   "id": "28161219",
   "metadata": {},
   "outputs": [
    {
     "name": "stdout",
     "output_type": "stream",
     "text": [
      "Short version of day Fri\n"
     ]
    }
   ],
   "source": [
    "res=a.strftime(\"%a\")\n",
    "print(\"Short version of day\",res)"
   ]
  },
  {
   "cell_type": "code",
   "execution_count": 12,
   "id": "f6d5ccbe",
   "metadata": {},
   "outputs": [
    {
     "name": "stdout",
     "output_type": "stream",
     "text": [
      "Full name of day Friday\n"
     ]
    }
   ],
   "source": [
    "res=a.strftime(\"%A\")\n",
    "print(\"Full name of day\",res)"
   ]
  },
  {
   "cell_type": "code",
   "execution_count": 13,
   "id": "733a6e69",
   "metadata": {},
   "outputs": [
    {
     "name": "stdout",
     "output_type": "stream",
     "text": [
      "Hour[01,23] 11\n"
     ]
    }
   ],
   "source": [
    "res=a.strftime(\"%H\")\n",
    "print(\"Hour[01,23]\",res)"
   ]
  },
  {
   "cell_type": "code",
   "execution_count": 14,
   "id": "85608f56",
   "metadata": {},
   "outputs": [
    {
     "name": "stdout",
     "output_type": "stream",
     "text": [
      "Hour[01,12] 11\n"
     ]
    }
   ],
   "source": [
    "res=a.strftime(\"%I\")\n",
    "print(\"Hour[01,12]\",res)"
   ]
  },
  {
   "cell_type": "code",
   "execution_count": 16,
   "id": "8c9afb79",
   "metadata": {},
   "outputs": [
    {
     "name": "stdout",
     "output_type": "stream",
     "text": [
      "\n",
      "Two-digit minute [00, 59]: 05\n"
     ]
    }
   ],
   "source": [
    "res=a.strftime(\"%M\")\n",
    "print(\"\\nTwo-digit minute [00, 59]:\",res)"
   ]
  },
  {
   "cell_type": "code",
   "execution_count": 17,
   "id": "4f9b3401",
   "metadata": {},
   "outputs": [
    {
     "name": "stdout",
     "output_type": "stream",
     "text": [
      "\n",
      "Seconds[00,61] 48\n"
     ]
    }
   ],
   "source": [
    "res=a.strftime(\"%S\")\n",
    "print(\"\\nSeconds[00,61]\",res)"
   ]
  },
  {
   "cell_type": "code",
   "execution_count": 18,
   "id": "a739ffdd",
   "metadata": {},
   "outputs": [
    {
     "name": "stdout",
     "output_type": "stream",
     "text": [
      "Short cut for %y/%m/%d: 2025-04-11\n"
     ]
    }
   ],
   "source": [
    "res=a.strftime(\"%F\")\n",
    "print(\"Short cut for %y/%m/%d:\",res)"
   ]
  },
  {
   "cell_type": "code",
   "execution_count": 20,
   "id": "9f2d5691",
   "metadata": {},
   "outputs": [
    {
     "name": "stdout",
     "output_type": "stream",
     "text": [
      "Microsecond of an integer[000000,999999]: 412305\n"
     ]
    }
   ],
   "source": [
    "res=a.strftime(\"%f\")\n",
    "print(\"Microsecond of an integer[000000,999999]:\",res)"
   ]
  },
  {
   "cell_type": "code",
   "execution_count": 21,
   "id": "b7372e6f",
   "metadata": {},
   "outputs": [
    {
     "name": "stdout",
     "output_type": "stream",
     "text": [
      "Locate equivalent of AM or PM: AM\n"
     ]
    }
   ],
   "source": [
    "res=a.strftime(\"%p\")\n",
    "print(\"Locate equivalent of AM or PM:\",res)"
   ]
  },
  {
   "cell_type": "code",
   "execution_count": 22,
   "id": "e8c38669",
   "metadata": {},
   "outputs": [
    {
     "name": "stdout",
     "output_type": "stream",
     "text": [
      "Locate appropriate formatted date: 04/11/25\n"
     ]
    }
   ],
   "source": [
    "res=a.strftime(\"%x\")\n",
    "print(\"Locate appropriate formatted date:\",res)"
   ]
  },
  {
   "cell_type": "code",
   "execution_count": 23,
   "id": "1834541f",
   "metadata": {},
   "outputs": [
    {
     "name": "stdout",
     "output_type": "stream",
     "text": [
      "Locate appropriate formatted time: 11:05:48\n"
     ]
    }
   ],
   "source": [
    "res=a.strftime(\"%X\")\n",
    "print(\"Locate appropriate formatted time:\",res)"
   ]
  },
  {
   "cell_type": "code",
   "execution_count": null,
   "id": "5e4c4344",
   "metadata": {},
   "outputs": [],
   "source": []
  }
 ],
 "metadata": {
  "kernelspec": {
   "display_name": "Python 3 (ipykernel)",
   "language": "python",
   "name": "python3"
  },
  "language_info": {
   "codemirror_mode": {
    "name": "ipython",
    "version": 3
   },
   "file_extension": ".py",
   "mimetype": "text/x-python",
   "name": "python",
   "nbconvert_exporter": "python",
   "pygments_lexer": "ipython3",
   "version": "3.11.5"
  }
 },
 "nbformat": 4,
 "nbformat_minor": 5
}
