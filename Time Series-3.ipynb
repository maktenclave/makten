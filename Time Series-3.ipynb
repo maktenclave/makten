{
 "cells": [
  {
   "cell_type": "code",
   "execution_count": 1,
   "id": "e3601e4a",
   "metadata": {},
   "outputs": [
    {
     "name": "stdout",
     "output_type": "stream",
     "text": [
      "Date index: 2025-04-01    0.244779\n",
      "2025-04-03    0.030706\n",
      "2025-04-06   -1.695831\n",
      "2025-04-09    1.247501\n",
      "2025-04-18    1.166987\n",
      "2025-04-30   -0.336504\n",
      "dtype: float64\n"
     ]
    }
   ],
   "source": [
    "import pandas as pd\n",
    "import numpy as np\n",
    "from datetime import datetime\n",
    "dates=[datetime(2025,4,1),datetime(2025,4,3),datetime(2025,4,6),datetime(2025,4,9),datetime(2025,4,18),datetime(2025,4,30)]\n",
    "p=pd.Series(np.random.randn(6),index=dates)\n",
    "print(\"Date index:\",p)"
   ]
  },
  {
   "cell_type": "code",
   "execution_count": 2,
   "id": "fcd4894e",
   "metadata": {},
   "outputs": [
    {
     "name": "stdout",
     "output_type": "stream",
     "text": [
      "Date index alone from Series:\n",
      " DatetimeIndex(['2025-04-01', '2025-04-03', '2025-04-06', '2025-04-09',\n",
      "               '2025-04-18', '2025-04-30'],\n",
      "              dtype='datetime64[ns]', freq=None)\n"
     ]
    }
   ],
   "source": [
    "print(\"Date index alone from Series:\\n\",p.index)"
   ]
  },
  {
   "cell_type": "code",
   "execution_count": 3,
   "id": "0284b6c9",
   "metadata": {},
   "outputs": [
    {
     "name": "stdout",
     "output_type": "stream",
     "text": [
      "Second index:\n",
      " 2025-04-06 00:00:00\n"
     ]
    }
   ],
   "source": [
    "s=p.index[2]\n",
    "print(\"Second index:\\n\",s)"
   ]
  },
  {
   "cell_type": "code",
   "execution_count": 4,
   "id": "1370446a",
   "metadata": {},
   "outputs": [
    {
     "name": "stdout",
     "output_type": "stream",
     "text": [
      "Daterange upto 1000 days: 2024-12-14   -1.440512\n",
      "2024-12-15    0.597771\n",
      "2024-12-16   -0.451412\n",
      "2024-12-17    0.314716\n",
      "2024-12-18    2.034635\n",
      "                ...   \n",
      "2027-09-05    1.803903\n",
      "2027-09-06    1.557018\n",
      "2027-09-07    0.945086\n",
      "2027-09-08    0.469058\n",
      "2027-09-09    0.424429\n",
      "Freq: D, Length: 1000, dtype: float64\n"
     ]
    }
   ],
   "source": [
    "longer_p=pd.Series(np.random.randn(1000),index=pd.date_range(\"2024-12-14\",periods=1000))\n",
    "print(\"Daterange upto 1000 days:\",longer_p)"
   ]
  },
  {
   "cell_type": "code",
   "execution_count": 5,
   "id": "d37b20f5",
   "metadata": {},
   "outputs": [
    {
     "name": "stdout",
     "output_type": "stream",
     "text": [
      "Date range 2026year:\n",
      " 2026-01-01    1.389214\n",
      "2026-01-02   -1.180951\n",
      "2026-01-03    0.479671\n",
      "2026-01-04   -0.157700\n",
      "2026-01-05    0.684375\n",
      "                ...   \n",
      "2026-12-27   -0.392843\n",
      "2026-12-28    2.635853\n",
      "2026-12-29   -0.991855\n",
      "2026-12-30   -1.301133\n",
      "2026-12-31   -0.923901\n",
      "Freq: D, Length: 365, dtype: float64\n"
     ]
    }
   ],
   "source": [
    "print(\"Date range 2026year:\\n\",longer_p[\"2026\"])"
   ]
  },
  {
   "cell_type": "code",
   "execution_count": 6,
   "id": "8e8e5fdb",
   "metadata": {},
   "outputs": [
    {
     "name": "stdout",
     "output_type": "stream",
     "text": [
      "Date range 2026-10year:\n",
      " 2026-10-01   -1.468852\n",
      "2026-10-02   -1.158159\n",
      "2026-10-03    0.178434\n",
      "2026-10-04   -0.599028\n",
      "2026-10-05    0.327772\n",
      "2026-10-06   -1.918415\n",
      "2026-10-07   -0.569020\n",
      "2026-10-08   -0.496647\n",
      "2026-10-09   -0.181112\n",
      "2026-10-10   -0.829830\n",
      "2026-10-11   -0.164759\n",
      "2026-10-12   -0.021970\n",
      "2026-10-13    0.089598\n",
      "2026-10-14   -0.836691\n",
      "2026-10-15    0.430045\n",
      "2026-10-16   -0.350317\n",
      "2026-10-17    1.708947\n",
      "2026-10-18   -0.417648\n",
      "2026-10-19    0.245972\n",
      "2026-10-20   -1.130251\n",
      "2026-10-21   -0.709677\n",
      "2026-10-22    1.829831\n",
      "2026-10-23    0.143940\n",
      "2026-10-24   -1.410835\n",
      "2026-10-25   -0.921214\n",
      "2026-10-26    0.209812\n",
      "2026-10-27   -1.144894\n",
      "2026-10-28    0.293535\n",
      "2026-10-29   -0.541438\n",
      "2026-10-30    1.995212\n",
      "2026-10-31    0.916111\n",
      "Freq: D, dtype: float64\n"
     ]
    }
   ],
   "source": [
    "print(\"Date range 2026-10year:\\n\",longer_p[\"2026-10\"])"
   ]
  },
  {
   "cell_type": "code",
   "execution_count": 7,
   "id": "703539ba",
   "metadata": {},
   "outputs": [
    {
     "name": "stdout",
     "output_type": "stream",
     "text": [
      "Few days in 2026:\n",
      " 2026-01-01    1.389214\n",
      "2026-01-02   -1.180951\n",
      "2026-01-03    0.479671\n",
      "2026-01-04   -0.157700\n",
      "2026-01-05    0.684375\n",
      "Freq: D, dtype: float64\n"
     ]
    }
   ],
   "source": [
    "print(\"Few days in 2026:\\n\",longer_p[\"2026\"].head())"
   ]
  },
  {
   "cell_type": "code",
   "execution_count": 8,
   "id": "77166312",
   "metadata": {},
   "outputs": [
    {
     "name": "stdout",
     "output_type": "stream",
     "text": [
      "First 10 days in 2026:\n",
      " 2026-01-01    1.389214\n",
      "2026-01-02   -1.180951\n",
      "2026-01-03    0.479671\n",
      "2026-01-04   -0.157700\n",
      "2026-01-05    0.684375\n",
      "2026-01-06   -0.715114\n",
      "2026-01-07   -1.247475\n",
      "2026-01-08    1.129197\n",
      "2026-01-09    1.128876\n",
      "2026-01-10    1.329922\n",
      "Freq: D, dtype: float64\n"
     ]
    }
   ],
   "source": [
    "print(\"First 10 days in 2026:\\n\",longer_p[\"2026\"].head(10))"
   ]
  },
  {
   "cell_type": "code",
   "execution_count": 9,
   "id": "c0f28d13",
   "metadata": {},
   "outputs": [
    {
     "name": "stdout",
     "output_type": "stream",
     "text": [
      "date range-rom 09-09-2026:\n",
      " 2026-09-09   -1.895217\n",
      "2026-09-10    0.415579\n",
      "2026-09-11    0.819599\n",
      "2026-09-12   -1.518093\n",
      "2026-09-13   -1.108420\n",
      "                ...   \n",
      "2027-09-05    1.803903\n",
      "2027-09-06    1.557018\n",
      "2027-09-07    0.945086\n",
      "2027-09-08    0.469058\n",
      "2027-09-09    0.424429\n",
      "Freq: D, Length: 366, dtype: float64\n"
     ]
    }
   ],
   "source": [
    "print(\"date range-rom 09-09-2026:\\n\",longer_p[datetime(2026,9,9):])"
   ]
  },
  {
   "cell_type": "code",
   "execution_count": 10,
   "id": "7353e606",
   "metadata": {},
   "outputs": [
    {
     "name": "stdout",
     "output_type": "stream",
     "text": [
      "Date range from 09/09/2025 to 09/10/2025:\n",
      " 2025-09-09   -0.768615\n",
      "2025-09-10   -0.677590\n",
      "2025-09-11   -1.695924\n",
      "2025-09-12    1.089208\n",
      "2025-09-13   -1.733324\n",
      "2025-09-14   -0.722978\n",
      "2025-09-15    2.149637\n",
      "2025-09-16   -2.209414\n",
      "2025-09-17    0.686495\n",
      "2025-09-18    0.475073\n",
      "2025-09-19   -0.154404\n",
      "2025-09-20    1.999178\n",
      "2025-09-21    0.860909\n",
      "2025-09-22    0.336533\n",
      "2025-09-23   -0.884524\n",
      "2025-09-24   -0.790864\n",
      "2025-09-25    0.901374\n",
      "2025-09-26    0.379730\n",
      "2025-09-27    0.854079\n",
      "2025-09-28    0.527514\n",
      "2025-09-29    0.322796\n",
      "2025-09-30   -0.296354\n",
      "2025-10-01    1.431621\n",
      "2025-10-02    0.698715\n",
      "2025-10-03    0.752363\n",
      "2025-10-04    1.527157\n",
      "2025-10-05    0.981768\n",
      "2025-10-06   -1.828903\n",
      "2025-10-07   -0.339528\n",
      "2025-10-08    0.571648\n",
      "2025-10-09    0.097153\n",
      "Freq: D, dtype: float64\n"
     ]
    }
   ],
   "source": [
    "print(\"Date range from 09/09/2025 to 09/10/2025:\\n\",longer_p[datetime(2025,9,9):datetime(2025,10,9)])"
   ]
  },
  {
   "cell_type": "code",
   "execution_count": null,
   "id": "397d4f4b",
   "metadata": {},
   "outputs": [],
   "source": []
  }
 ],
 "metadata": {
  "kernelspec": {
   "display_name": "Python 3 (ipykernel)",
   "language": "python",
   "name": "python3"
  },
  "language_info": {
   "codemirror_mode": {
    "name": "ipython",
    "version": 3
   },
   "file_extension": ".py",
   "mimetype": "text/x-python",
   "name": "python",
   "nbconvert_exporter": "python",
   "pygments_lexer": "ipython3",
   "version": "3.11.5"
  }
 },
 "nbformat": 4,
 "nbformat_minor": 5
}
