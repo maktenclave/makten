{
 "cells": [
  {
   "cell_type": "code",
   "execution_count": 1,
   "id": "dfa38384",
   "metadata": {},
   "outputs": [
    {
     "name": "stdout",
     "output_type": "stream",
     "text": [
      "Today_nowfunction: 2025-04-15 13:31:32.462237\n"
     ]
    }
   ],
   "source": [
    "import datetime\n",
    "a=datetime.datetime.now()\n",
    "print(\"Today_nowfunction:\",a)"
   ]
  },
  {
   "cell_type": "code",
   "execution_count": 2,
   "id": "dfd384e2",
   "metadata": {},
   "outputs": [
    {
     "name": "stdout",
     "output_type": "stream",
     "text": [
      "\n",
      "Today: 2025-04-15 13:31:34.222220\n"
     ]
    }
   ],
   "source": [
    "today=datetime.datetime.today()\n",
    "print(\"\\nToday:\",today)"
   ]
  },
  {
   "cell_type": "code",
   "execution_count": 3,
   "id": "1363c7d7",
   "metadata": {},
   "outputs": [
    {
     "name": "stdout",
     "output_type": "stream",
     "text": [
      "\n",
      "Tommorow: 2025-04-18 13:31:34.222220\n"
     ]
    }
   ],
   "source": [
    "tomorrow=today+datetime.timedelta(days=3)\n",
    "print(\"\\nTommorow:\",tomorrow)"
   ]
  },
  {
   "cell_type": "code",
   "execution_count": 4,
   "id": "987edf53",
   "metadata": {},
   "outputs": [
    {
     "name": "stdout",
     "output_type": "stream",
     "text": [
      "yesterday: 2025-04-13 13:31:34.222220\n"
     ]
    }
   ],
   "source": [
    "yesterday=today-datetime.timedelta(days=2)\n",
    "print(\"yesterday:\",yesterday)"
   ]
  },
  {
   "cell_type": "code",
   "execution_count": 5,
   "id": "4f3d5501",
   "metadata": {},
   "outputs": [
    {
     "name": "stdout",
     "output_type": "stream",
     "text": [
      "Date format[2020,6,8,23,10,25,404040]: 2020-06-08 23:10:25.404040\n"
     ]
    }
   ],
   "source": [
    "a=datetime.datetime.now()\n",
    "b=datetime.datetime(2020,6,8,23,10,25,404040)\n",
    "print(\"Date format[2020,6,8,23,10,25,404040]:\",b)"
   ]
  },
  {
   "cell_type": "code",
   "execution_count": 6,
   "id": "61046eb2",
   "metadata": {},
   "outputs": [
    {
     "name": "stdout",
     "output_type": "stream",
     "text": [
      "\n",
      "Replacing date: 2024-12-31 2024-12-15\n"
     ]
    }
   ],
   "source": [
    "from datetime import date\n",
    "d=date(2024,12,31)\n",
    "print(\"\\nReplacing date:\",d,d.replace(day=15))"
   ]
  },
  {
   "cell_type": "code",
   "execution_count": 7,
   "id": "c87cee14",
   "metadata": {},
   "outputs": [
    {
     "name": "stdout",
     "output_type": "stream",
     "text": [
      "\n",
      "Today: 2025-04-15\n",
      "\n",
      "Current Year: 2025\n",
      "\n",
      "Current month: 4\n",
      "\n",
      "Current day: 15\n"
     ]
    }
   ],
   "source": [
    "today=date.today()\n",
    "print(\"\\nToday:\",today)\n",
    "print(\"\\nCurrent Year:\",today.year)\n",
    "print(\"\\nCurrent month:\",today.month)\n",
    "print(\"\\nCurrent day:\",today.day)"
   ]
  },
  {
   "cell_type": "code",
   "execution_count": null,
   "id": "ac6eeb17",
   "metadata": {},
   "outputs": [],
   "source": []
  }
 ],
 "metadata": {
  "kernelspec": {
   "display_name": "Python 3 (ipykernel)",
   "language": "python",
   "name": "python3"
  },
  "language_info": {
   "codemirror_mode": {
    "name": "ipython",
    "version": 3
   },
   "file_extension": ".py",
   "mimetype": "text/x-python",
   "name": "python",
   "nbconvert_exporter": "python",
   "pygments_lexer": "ipython3",
   "version": "3.11.5"
  }
 },
 "nbformat": 4,
 "nbformat_minor": 5
}
