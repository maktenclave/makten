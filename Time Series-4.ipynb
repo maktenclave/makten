{
  "nbformat": 4,
  "nbformat_minor": 0,
  "metadata": {
    "colab": {
      "provenance": []
    },
    "kernelspec": {
      "name": "python3",
      "display_name": "Python 3"
    },
    "language_info": {
      "name": "python"
    }
  },
  "cells": [
    {
      "cell_type": "code",
      "execution_count": 1,
      "metadata": {
        "colab": {
          "base_uri": "https://localhost:8080/"
        },
        "id": "sVv-qTAaXvGW",
        "outputId": "e3718409-de3d-4af2-e888-1f128eb281b9"
      },
      "outputs": [
        {
          "output_type": "stream",
          "name": "stdout",
          "text": [
            "Date range:\n",
            " DatetimeIndex(['2020-08-15', '2020-08-16', '2020-08-17', '2020-08-18',\n",
            "               '2020-08-19', '2020-08-20', '2020-08-21', '2020-08-22',\n",
            "               '2020-08-23', '2020-08-24', '2020-08-25', '2020-08-26',\n",
            "               '2020-08-27', '2020-08-28', '2020-08-29', '2020-08-30',\n",
            "               '2020-08-31', '2020-09-01'],\n",
            "              dtype='datetime64[ns]', freq='D')\n"
          ]
        }
      ],
      "source": [
        "import pandas as pd\n",
        "import numpy as np\n",
        "from datetime import datetime\n",
        "ran=pd.date_range(\"2020-08-15\",\"2020-09-01\")\n",
        "print(\"Date range:\\n\",ran)"
      ]
    },
    {
      "cell_type": "code",
      "source": [
        "ran=pd.date_range(\"2020-07-15\", periods=10)\n",
        "print(\"\\nDate range with periods and default day frequency:\\n\",ran)"
      ],
      "metadata": {
        "colab": {
          "base_uri": "https://localhost:8080/"
        },
        "id": "L4zlrCqoYVnq",
        "outputId": "cfd71e54-d7de-4ba1-b47e-a6d58f2a688c"
      },
      "execution_count": 3,
      "outputs": [
        {
          "output_type": "stream",
          "name": "stdout",
          "text": [
            "\n",
            "Date range with periods and default day frequency:\n",
            " DatetimeIndex(['2020-07-15', '2020-07-16', '2020-07-17', '2020-07-18',\n",
            "               '2020-07-19', '2020-07-20', '2020-07-21', '2020-07-22',\n",
            "               '2020-07-23', '2020-07-24'],\n",
            "              dtype='datetime64[ns]', freq='D')\n"
          ]
        }
      ]
    },
    {
      "cell_type": "code",
      "source": [
        "ran=pd.date_range(\"2020-07-15\", periods=10, freq='H')\n",
        "print(\"\\nDate range with periods and hour frequency:\\n\",ran)"
      ],
      "metadata": {
        "colab": {
          "base_uri": "https://localhost:8080/"
        },
        "id": "8DK5UZyQYe_e",
        "outputId": "6f8fdfe0-2f6f-474c-92b6-22e7be67866b"
      },
      "execution_count": 4,
      "outputs": [
        {
          "output_type": "stream",
          "name": "stdout",
          "text": [
            "\n",
            "Date range with periods and hour frequency:\n",
            " DatetimeIndex(['2020-07-15 00:00:00', '2020-07-15 01:00:00',\n",
            "               '2020-07-15 02:00:00', '2020-07-15 03:00:00',\n",
            "               '2020-07-15 04:00:00', '2020-07-15 05:00:00',\n",
            "               '2020-07-15 06:00:00', '2020-07-15 07:00:00',\n",
            "               '2020-07-15 08:00:00', '2020-07-15 09:00:00'],\n",
            "              dtype='datetime64[ns]', freq='h')\n"
          ]
        },
        {
          "output_type": "stream",
          "name": "stderr",
          "text": [
            "<ipython-input-4-5758df9c1bab>:1: FutureWarning: 'H' is deprecated and will be removed in a future version, please use 'h' instead.\n",
            "  ran=pd.date_range(\"2020-07-15\", periods=10, freq='H')\n"
          ]
        }
      ]
    },
    {
      "cell_type": "code",
      "source": [
        "ran=pd.period_range(\"2020-10\", periods=10, freq=\"M\")\n",
        "print(\"\\nDate range with periods and month frequency:\\n\",ran)"
      ],
      "metadata": {
        "colab": {
          "base_uri": "https://localhost:8080/"
        },
        "id": "aWVzwcAHYr2c",
        "outputId": "3dac767d-00b5-4691-f78e-3339055af66f"
      },
      "execution_count": 5,
      "outputs": [
        {
          "output_type": "stream",
          "name": "stdout",
          "text": [
            "\n",
            "Date range with periods and month frequency:\n",
            " PeriodIndex(['2020-10', '2020-11', '2020-12', '2021-01', '2021-02', '2021-03',\n",
            "             '2021-04', '2021-05', '2021-06', '2021-07'],\n",
            "            dtype='period[M]')\n"
          ]
        }
      ]
    },
    {
      "cell_type": "code",
      "source": [
        "ran=pd.timedelta_range(0, periods=8, freq=\"H\")\n",
        "print(\"\\nZero day with hour frequency periods:\\n\",ran)"
      ],
      "metadata": {
        "colab": {
          "base_uri": "https://localhost:8080/"
        },
        "id": "OUuABTfOY5zM",
        "outputId": "c465f436-dc3e-48e4-d806-8e7773a93b4d"
      },
      "execution_count": 6,
      "outputs": [
        {
          "output_type": "stream",
          "name": "stdout",
          "text": [
            "\n",
            "Zero day with hour frequency periods:\n",
            " TimedeltaIndex(['0 days 00:00:00', '0 days 01:00:00', '0 days 02:00:00',\n",
            "                '0 days 03:00:00', '0 days 04:00:00', '0 days 05:00:00',\n",
            "                '0 days 06:00:00', '0 days 07:00:00'],\n",
            "               dtype='timedelta64[ns]', freq='h')\n"
          ]
        },
        {
          "output_type": "stream",
          "name": "stderr",
          "text": [
            "<ipython-input-6-e528f2e6b9e5>:1: FutureWarning: 'H' is deprecated and will be removed in a future version, please use 'h' instead.\n",
            "  ran=pd.timedelta_range(0, periods=8, freq=\"H\")\n"
          ]
        }
      ]
    }
  ]
}