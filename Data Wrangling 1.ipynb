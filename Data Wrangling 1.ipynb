{
 "cells": [
  {
   "cell_type": "code",
   "execution_count": 1,
   "id": "e94defbc",
   "metadata": {},
   "outputs": [
    {
     "name": "stdout",
     "output_type": "stream",
     "text": [
      "  Name  Age\n",
      "0  Sai   20\n",
      "1  Sub   21\n",
      "2  Poo   22\n",
      "   Qualified\n",
      "0       True\n",
      "1       True\n",
      "2      False\n",
      "  Name  Age  Qualified\n",
      "0  Sai   20       True\n",
      "1  Sub   21       True\n",
      "2  Poo   22      False\n"
     ]
    }
   ],
   "source": [
    "#Join Function\n",
    "import pandas as pd\n",
    "d1={\"Name\":[\"Sai\",\"Sub\",\"Poo\"],\"Age\":[20,21,22]}\n",
    "d2={\"Qualified\":[True,True,False]}\n",
    "df1=pd.DataFrame(d1)\n",
    "df2=pd.DataFrame(d2)\n",
    "print(df1)\n",
    "print(df2)\n",
    "d=df1.join(df2)\n",
    "print(d)"
   ]
  },
  {
   "cell_type": "code",
   "execution_count": 2,
   "id": "89bd0508",
   "metadata": {},
   "outputs": [
    {
     "name": "stdout",
     "output_type": "stream",
     "text": [
      "    Name  Age\n",
      "0    Sai   20\n",
      "1  Rishi   21\n",
      "2  Thara   22\n",
      "     Name  Age\n",
      "0    Yuvi   20\n",
      "1   Rithi   21\n",
      "2  Sanjay   22\n",
      "  Name_x  Age  Name_y\n",
      "0    Sai   20    Yuvi\n",
      "1  Rishi   21   Rithi\n",
      "2  Thara   22  Sanjay\n"
     ]
    }
   ],
   "source": [
    "#Merge Function\n",
    "d1={\"Name\":[\"Sai\",\"Rishi\",\"Thara\"],\"Age\":[20,21,22]}\n",
    "d2={\"Name\":[\"Yuvi\",\"Rithi\",\"Sanjay\"],\"Age\":[20,21,22]}\n",
    "df1=pd.DataFrame(d1)\n",
    "df2=pd.DataFrame(d2)\n",
    "print(df1)\n",
    "print(df2)\n",
    "d=df1.merge(df2,on=\"Age\")\n",
    "print(d)"
   ]
  },
  {
   "cell_type": "code",
   "execution_count": 5,
   "id": "37ab0070",
   "metadata": {},
   "outputs": [
    {
     "name": "stdout",
     "output_type": "stream",
     "text": [
      "  Team  Points  Assists  Rebounds\n",
      "0    A      90       12        56\n",
      "1    B      56       34        43\n",
      "2    C      78       23        55\n",
      "3    D      88       44        12\n",
      "   Team  variable  value\n",
      "0     A    Points     90\n",
      "1     B    Points     56\n",
      "2     C    Points     78\n",
      "3     D    Points     88\n",
      "4     A   Assists     12\n",
      "5     B   Assists     34\n",
      "6     C   Assists     23\n",
      "7     D   Assists     44\n",
      "8     A  Rebounds     56\n",
      "9     B  Rebounds     43\n",
      "10    C  Rebounds     55\n",
      "11    D  Rebounds     12\n"
     ]
    }
   ],
   "source": [
    "a=pd.DataFrame({'Team':['A','B','C','D'],'Points':[90,56,78,88],'Assists':[12,34,23,44],'Rebounds':[56,43,55,12]})\n",
    "print(a)\n",
    "b=pd.melt(a,id_vars='Team',value_vars=['Points','Assists','Rebounds'])\n",
    "print(b)"
   ]
  },
  {
   "cell_type": "code",
   "execution_count": null,
   "id": "e2e7a466",
   "metadata": {},
   "outputs": [],
   "source": []
  }
 ],
 "metadata": {
  "kernelspec": {
   "display_name": "Python 3 (ipykernel)",
   "language": "python",
   "name": "python3"
  },
  "language_info": {
   "codemirror_mode": {
    "name": "ipython",
    "version": 3
   },
   "file_extension": ".py",
   "mimetype": "text/x-python",
   "name": "python",
   "nbconvert_exporter": "python",
   "pygments_lexer": "ipython3",
   "version": "3.11.5"
  }
 },
 "nbformat": 4,
 "nbformat_minor": 5
}
