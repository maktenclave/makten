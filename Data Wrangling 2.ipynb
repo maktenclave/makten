{
 "cells": [
  {
   "cell_type": "code",
   "execution_count": 6,
   "id": "7c3aa5d4",
   "metadata": {},
   "outputs": [
    {
     "name": "stdout",
     "output_type": "stream",
     "text": [
      "Original Dataframe:\n",
      "           Name  Age Gender Marks\n",
      "0          Sai   20      M    90\n",
      "1      Yuvasri   18      F    76\n",
      "2    Poovannan   19      M   NaN\n",
      "3    Sabharish   20      M    74\n",
      "4  Sangamithra   18      F    65\n",
      "5      Rithika   17      F   NaN\n",
      "6      Rubasri   19      F    71\n",
      "\n",
      "Replacing NaN with average marks:\n",
      ":           Name  Age Gender  Marks\n",
      "0          Sai   20      M   90.0\n",
      "1      Yuvasri   18      F   76.0\n",
      "2    Poovannan   19      M   75.2\n",
      "3    Sabharish   20      M   74.0\n",
      "4  Sangamithra   18      F   65.0\n",
      "5      Rithika   17      F   75.2\n",
      "6      Rubasri   19      F   71.0\n"
     ]
    }
   ],
   "source": [
    "import pandas as pd\n",
    "d={'Name':['Sai','Yuvasri','Poovannan','Sabharish','Sangamithra','Rithika','Rubasri'],'Age':[20,18,19,20,18,17,19],'Gender':['M','F','M','M','F','F','F'],'Marks':[90,76,'NaN',74,65,'NaN',71]}\n",
    "a=pd.DataFrame(d)\n",
    "print(\"Original Dataframe:\\n\",a)\n",
    "c=avg=0\n",
    "for i in a['Marks']:\n",
    "    if str(i).isnumeric():\n",
    "        c+=1\n",
    "        avg+=i\n",
    "avg/=c\n",
    "a=a.replace(to_replace=\"NaN\",value=avg)\n",
    "print(\"\\nReplacing NaN with average marks:\\n:\",a)"
   ]
  },
  {
   "cell_type": "code",
   "execution_count": 4,
   "id": "45fa99ac",
   "metadata": {},
   "outputs": [
    {
     "name": "stdout",
     "output_type": "stream",
     "text": [
      "\n",
      "Filtering and dropping function\n",
      ":       Name Gender  Marks\n",
      "0      Sai      M   90.0\n",
      "1  Yuvasri      F   76.0\n"
     ]
    }
   ],
   "source": [
    "a=a[a['Marks']>=75]\n",
    "a=a.drop(['Age'],axis=1)\n",
    "print(\"\\nFiltering and dropping function\\n:\",a)"
   ]
  },
  {
   "cell_type": "code",
   "execution_count": 5,
   "id": "f1e53941",
   "metadata": {},
   "outputs": [
    {
     "name": "stdout",
     "output_type": "stream",
     "text": [
      "\n",
      "Original DataFrame 1:\n",
      "       Name subject_id  Marks_scored\n",
      "1      Sai       sub1            98\n",
      "2      Sub       sub2            95\n",
      "3      Poo       sub4            96\n",
      "4  Yuvasri       sub6            92\n",
      "5  Rithika       sub5            88\n",
      "\n",
      "Original DataFrame 2:\n",
      "           Name subject_id  Marks_scored\n",
      "1       Sanjay       sub2            86\n",
      "2  Sangamithra       sub4            95\n",
      "3      Rubasri       sub3            87\n",
      "4       Nikesh       sub6            99\n",
      "5     Somanath       sub5            91\n",
      "          Name subject_id  Marks_scored\n",
      "1          Sai       sub1            98\n",
      "2          Sub       sub2            95\n",
      "3          Poo       sub4            96\n",
      "4      Yuvasri       sub6            92\n",
      "5      Rithika       sub5            88\n",
      "1       Sanjay       sub2            86\n",
      "2  Sangamithra       sub4            95\n",
      "3      Rubasri       sub3            87\n",
      "4       Nikesh       sub6            99\n",
      "5     Somanath       sub5            91\n"
     ]
    }
   ],
   "source": [
    "one = pd.DataFrame({'Name':['Sai','Sub','Poo','Yuvasri','Rithika'],'subject_id':['sub1','sub2','sub4','sub6','sub5'],'Marks_scored':[98,95,96,92,88]},\n",
    "index=[1,2,3,4,5])\n",
    "two=pd.DataFrame({'Name':['Sanjay','Sangamithra','Rubasri','Nikesh','Somanath'],'subject_id':['sub2','sub4','sub3','sub6','sub5'],'Marks_scored':[86,95,87,99,91]},\n",
    "index=[1,2,3,4,5])\n",
    "print(\"\\nOriginal DataFrame 1:\\n\",one)\n",
    "print(\"\\nOriginal DataFrame 2:\\n\",two)\n",
    "print(pd.concat([one,two]))"
   ]
  },
  {
   "cell_type": "code",
   "execution_count": null,
   "id": "5ff1535e",
   "metadata": {},
   "outputs": [],
   "source": []
  }
 ],
 "metadata": {
  "kernelspec": {
   "display_name": "Python 3 (ipykernel)",
   "language": "python",
   "name": "python3"
  },
  "language_info": {
   "codemirror_mode": {
    "name": "ipython",
    "version": 3
   },
   "file_extension": ".py",
   "mimetype": "text/x-python",
   "name": "python",
   "nbconvert_exporter": "python",
   "pygments_lexer": "ipython3",
   "version": "3.11.5"
  }
 },
 "nbformat": 4,
 "nbformat_minor": 5
}
